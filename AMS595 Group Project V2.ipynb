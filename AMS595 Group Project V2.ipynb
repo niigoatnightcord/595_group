{
 "cells": [
  {
   "cell_type": "markdown",
   "metadata": {},
   "source": [
    "Packages"
   ]
  },
  {
   "cell_type": "code",
   "execution_count": 62,
   "metadata": {},
   "outputs": [],
   "source": [
    "import numpy as np\n",
    "import pandas as pd\n",
    "import matplotlib.pyplot as plt\n",
    "from scipy.linalg import lstsq"
   ]
  },
  {
   "cell_type": "markdown",
   "metadata": {},
   "source": [
    "Loading in Datasets"
   ]
  },
  {
   "cell_type": "code",
   "execution_count": 15,
   "metadata": {},
   "outputs": [],
   "source": [
    "gas_gaf = pd.read_csv(\"C:/Users/kshaz/Desktop/School Documents/Stony Brook Docs/Homework/AMS_595/Group Project/gas_gaf_595.csv\")\n",
    "neuro_20Y = pd.read_csv(\"C:/Users/kshaz/Desktop/School Documents/Stony Brook Docs/Homework/AMS_595/Group Project/neuro_20Y_595.csv\")\n",
    "neuro_25Y = pd.read_csv(\"C:/Users/kshaz/Desktop/School Documents/Stony Brook Docs/Homework/AMS_595/Group Project/neuro_25Y_595.csv\")\n",
    "neuro_27Y = pd.read_csv(\"C:/Users/kshaz/Desktop/School Documents/Stony Brook Docs/Homework/AMS_595/Group Project/neuro_27Y_595.csv\")\n",
    "stable = pd.read_csv(\"C:/Users/kshaz/Desktop/School Documents/Stony Brook Docs/Homework/AMS_595/Group Project/stable_595.csv\")"
   ]
  },
  {
   "cell_type": "markdown",
   "metadata": {},
   "source": [
    "Data Exploration"
   ]
  },
  {
   "cell_type": "code",
   "execution_count": 95,
   "metadata": {},
   "outputs": [],
   "source": [
    "gas_gaf_20Y = gas_gaf[['ID','GRXX_APM_20_yr','GRXX_FPM_20_yr','GRXX_APY_20_yr','GRXX_FPY_20_yr']]\n",
    "gas_gaf_25Y = gas_gaf[['ID','GRXXV_APM_25_yr','GRXXV_FPM_25_yr','GRXXV_APY_25_yr','GRXXV_FPY_25_yr']]\n",
    "fiq_20Y = stable[['ID','fiq_strict_bartlett_20y_rescaled']]\n",
    "fiq_25Y = stable[['ID','fiq_strict_bartlett_25y_rescaled']]\n",
    "\n",
    "ggf_20Y = pd.merge(gas_gaf_20Y,fiq_20Y, on = 'ID')\n",
    "ggf_25Y = pd.merge(gas_gaf_25Y,fiq_25Y, on = 'ID')\n",
    "\n",
    "bins = [1,30,60,100]\n",
    "category = [1,2,3]\n",
    "\n",
    "ggf_20Y['GAS_PM_Category'] = pd.cut(ggf_20Y['GRXX_APM_20_yr'], bins=bins, labels=category, right=True, include_lowest=True)\n",
    "ggf_20Y['GAS_PY_Category'] = pd.cut(ggf_20Y['GRXX_APY_20_yr'], bins=bins, labels=category, right=True, include_lowest=True)\n",
    "ggf_20Y['GAF_PM_Category'] = pd.cut(ggf_20Y['GRXX_FPM_20_yr'], bins=bins, labels=category, right=True, include_lowest=True)\n",
    "ggf_20Y['GAF_PY_Category'] = pd.cut(ggf_20Y['GRXX_FPY_20_yr'], bins=bins, labels=category, right=True, include_lowest=True)\n",
    "\n",
    "ggf_25Y['GAS_PM_Category'] = pd.cut(ggf_25Y['GRXXV_APM_25_yr'], bins=bins, labels=category, right=True, include_lowest=True)\n",
    "ggf_25Y['GAS_PY_Category'] = pd.cut(ggf_25Y['GRXXV_APY_25_yr'], bins=bins, labels=category, right=True, include_lowest=True)\n",
    "ggf_25Y['GAF_PM_Category'] = pd.cut(ggf_25Y['GRXXV_FPM_25_yr'], bins=bins, labels=category, right=True, include_lowest=True)\n",
    "ggf_25Y['GAF_PY_Category'] = pd.cut(ggf_25Y['GRXXV_FPY_25_yr'], bins=bins, labels=category, right=True, include_lowest=True)"
   ]
  },
  {
   "cell_type": "markdown",
   "metadata": {},
   "source": [
    "Visualizing the relationship between IQ and GAS/GAF through scatterplots"
   ]
  },
  {
   "cell_type": "code",
   "execution_count": null,
   "metadata": {},
   "outputs": [],
   "source": [
    "fig, sub = plt.subplots(2, 2, figsize=(10, 8))\n",
    "\n",
    "sub[0,0].scatter(ggf_20Y['fiq_strict_bartlett_20y_rescaled'], ggf_20Y['GRXX_APM_20_yr'])\n",
    "sub[0,0].set_title('IQ vs GAS for Past Month (20 Year Wave)')\n",
    "sub[0,0].set_xlabel('IQ')\n",
    "sub[0,0].set_ylabel('GAS')\n",
    "\n",
    "sub[0,1].scatter(ggf_20Y['fiq_strict_bartlett_20y_rescaled'], ggf_20Y['GRXX_FPM_20_yr'])\n",
    "sub[0,1].set_title('IQ vs GAS for Past Year (20 Year Wave)')\n",
    "sub[0,1].set_xlabel('IQ')\n",
    "sub[0,1].set_ylabel('GAF')\n",
    "\n",
    "sub[1,0].scatter(ggf_20Y['fiq_strict_bartlett_20y_rescaled'], ggf_20Y['GRXX_APY_20_yr'])\n",
    "sub[1,0].set_title('IQ vs GAF for Past Month (20 Year Wave)')\n",
    "sub[1,0].set_xlabel('IQ')\n",
    "sub[1,0].set_ylabel('GAS')\n",
    "\n",
    "sub[1,1].scatter(ggf_20Y['fiq_strict_bartlett_20y_rescaled'], ggf_20Y['GRXX_FPY_20_yr'])\n",
    "sub[1,1].set_title('IQ vs GAF for Past Year (20 Year Wave)')\n",
    "sub[1,1].set_xlabel('IQ')\n",
    "sub[1,1].set_ylabel('GAF')\n",
    "\n",
    "plt.tight_layout()\n",
    "plt.show()"
   ]
  },
  {
   "cell_type": "markdown",
   "metadata": {},
   "source": [
    "Simple Linear Regression Model"
   ]
  },
  {
   "cell_type": "code",
   "execution_count": null,
   "metadata": {},
   "outputs": [],
   "source": [
    "fiq_gas_py_20y = ggf_20Y[['fiq_strict_bartlett_20y_rescaled','GRXX_APY_20_yr']]\n",
    "fiq_gas_py_20y_narm = ggf_20Y.dropna(subset=['fiq_strict_bartlett_20y_rescaled','GRXX_APY_20_yr'], how='any')\n",
    "\n",
    "x = fiq_gas_py_20y_narm['fiq_strict_bartlett_20y_rescaled'].values.reshape(-1,1)\n",
    "x_intercept = np.hstack((np.ones((x.shape[0], 1)), x))\n",
    "y = fiq_gas_py_20y_narm['GRXX_APY_20_yr'].values\n",
    "\n",
    "b = lstsq(x_intercept,y)\n",
    "intercept,slope = b[0]\n",
    "\n",
    "print('The intercept is:',intercept)\n",
    "print('The slope is:',slope)"
   ]
  },
  {
   "cell_type": "markdown",
   "metadata": {},
   "source": [
    "Linear Model Visualization"
   ]
  },
  {
   "cell_type": "code",
   "execution_count": null,
   "metadata": {},
   "outputs": [],
   "source": [
    "regression_line = slope*x + intercept\n",
    "\n",
    "plt.scatter(ggf_20Y['fiq_strict_bartlett_20y_rescaled'], ggf_20Y['GRXX_APY_20_yr'])\n",
    "plt.plot(x, regression_line, color='red', label='Regression line')\n",
    "plt.title('IQ vs GAF for Past Month (20 Year Wave)')\n",
    "plt.xlabel('IQ')\n",
    "plt.ylabel('GAS')"
   ]
  },
  {
   "cell_type": "markdown",
   "metadata": {},
   "source": [
    "Priliminary Testing"
   ]
  },
  {
   "cell_type": "code",
   "execution_count": 129,
   "metadata": {},
   "outputs": [
    {
     "name": "stdout",
     "output_type": "stream",
     "text": [
      "Accuracy of Linear Model with Binning is: 0.5850622406639004\n"
     ]
    }
   ],
   "source": [
    "cut_off_1 = (31-intercept)/slope # 62.59 -> rounded to 63\n",
    "cut_off_2 = (61-intercept)/slope # 110.75 -> rounded to 111\n",
    "\n",
    "bins_1 = [1,63,111,200]\n",
    "category_1 = [1,2,3]\n",
    "\n",
    "ggf_20Y['IQ_PY_Category'] = pd.cut(ggf_20Y['fiq_strict_bartlett_20y_rescaled'], bins=bins_1, labels=category_1, right=True, include_lowest=True)\n",
    "ggf_20Y['Accuracy'] = (ggf_20Y['GAS_PY_Category'] == ggf_20Y['IQ_PY_Category']).astype(int)\n",
    "ggf_20Y.loc[ggf_20Y[['GAS_PY_Category', 'IQ_PY_Category']].isnull().any(axis=1), 'Accuracy'] = np.nan \n",
    "\n",
    "ggf_20Y.Accuracy.value_counts() # correct = 141, incorrect = 100\n",
    " \n",
    "print('Accuracy of Linear Model with Binning is:',141/(141+100))"
   ]
  }
 ],
 "metadata": {
  "kernelspec": {
   "display_name": "Python 3",
   "language": "python",
   "name": "python3"
  },
  "language_info": {
   "codemirror_mode": {
    "name": "ipython",
    "version": 3
   },
   "file_extension": ".py",
   "mimetype": "text/x-python",
   "name": "python",
   "nbconvert_exporter": "python",
   "pygments_lexer": "ipython3",
   "version": "3.11.3"
  }
 },
 "nbformat": 4,
 "nbformat_minor": 2
}
