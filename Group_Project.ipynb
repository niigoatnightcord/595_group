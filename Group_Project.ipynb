{
  "nbformat": 4,
  "nbformat_minor": 0,
  "metadata": {
    "colab": {
      "provenance": [],
      "toc_visible": true,
      "authorship_tag": "ABX9TyPDpDerEJU4xg6pccxXSvv0",
      "include_colab_link": true
    },
    "kernelspec": {
      "name": "python3",
      "display_name": "Python 3"
    },
    "language_info": {
      "name": "python"
    }
  },
  "cells": [
    {
      "cell_type": "markdown",
      "metadata": {
        "id": "view-in-github",
        "colab_type": "text"
      },
      "source": [
        "<a href=\"https://colab.research.google.com/github/niigoatnightcord/595_group/blob/main/Group_Project.ipynb\" target=\"_parent\"><img src=\"https://colab.research.google.com/assets/colab-badge.svg\" alt=\"Open In Colab\"/></a>"
      ]
    },
    {
      "cell_type": "markdown",
      "source": [],
      "metadata": {
        "id": "cQqPYUSfxMWA"
      }
    },
    {
      "cell_type": "code",
      "source": [
        "import pandas as pd\n",
        "from sklearn.model_selection import train_test_split\n",
        "from sklearn.linear_model import LogisticRegression\n",
        "from sklearn.metrics import accuracy_score\n",
        "\n",
        "# File paths\n",
        "gas_file = \"gas_gaf_595.csv\"\n",
        "stable_file = \"stable_595.csv\"\n",
        "\n",
        "# Here I only select ID<5000, since there are many NAs over 5000\n",
        "gas_data = pd.read_csv(gas_file)\n",
        "gas_filtered = gas_data[gas_data['ID'] < 5000]\n",
        "\n",
        "# Here I only tried 20_yr and calculate the mean, dk if makes sense\n",
        "columns_of_interest = [\n",
        "    'GRXX_OPM_20_yr', 'GRXX_APM_20_yr', 'GRXX_FPM_20_yr',\n",
        "    'GRXX_APY_20_yr', 'GRXX_FPY_20_yr', 'GRXX_OPY_20_yr'\n",
        "]\n",
        "gas_selected = gas_filtered[['ID'] + columns_of_interest].dropna().copy()  # Create a new DataFrame copy\n",
        "\n",
        "# Calculate the mean of selected columns and classify based on the mean value\n",
        "gas_selected.loc[:, 'mean_value'] = gas_selected[columns_of_interest].mean(axis=1)  # Add a new column for mean\n",
        "\n",
        "# I just set the threshold randomly, need updates\n",
        "def classify(mean):\n",
        "    if mean > 80:\n",
        "        return 1\n",
        "    elif 40 <= mean <= 80:\n",
        "        return 2\n",
        "    else:\n",
        "        return 3\n",
        "\n",
        "gas_selected.loc[:, 'category'] = gas_selected['mean_value'].apply(classify)  # Add a category column\n",
        "labels = gas_selected[['ID', 'category']]  # Keep only ID and category for labeling\n",
        "\n",
        "# I just select an IQ column with least NAs...\n",
        "stable_data = pd.read_csv(stable_file)\n",
        "stable_filtered = stable_data[stable_data['ID'] < 5000]  # Filter rows where ID < 5000\n",
        "stable_selected = stable_filtered[['ID', 'fiq_strict_bartlett_24m_rescaled']].dropna().copy()  # Create a new DataFrame copy\n",
        "\n",
        "# Attach labels to the IQs\n",
        "merged_data = pd.merge(stable_selected, labels, on='ID')\n",
        "\n",
        "# Split the data into training and testing sets 80% train set, 20% test set\n",
        "X = merged_data[['fiq_strict_bartlett_24m_rescaled']]  # Features\n",
        "y = merged_data['category']  # Labels\n",
        "X_train, X_test, y_train, y_test = train_test_split(X, y, test_size=0.2, random_state=59)\n",
        "\n",
        "# Train a logistic regression model\n",
        "model = LogisticRegression(max_iter=1000, random_state=59)\n",
        "model.fit(X_train, y_train)\n",
        "\n",
        "# Test the model and calculate accuracy\n",
        "y_pred = model.predict(X_test)\n",
        "accuracy = accuracy_score(y_test, y_pred)\n",
        "\n",
        "print(f\"Model accuracy: {accuracy:.2f}\")\n",
        "\n",
        "output_file = \"classified_data.csv\"\n",
        "gas_selected.to_csv(output_file, index=False)\n",
        "print(f\"Classification data saved to {output_file}\")\n"
      ],
      "metadata": {
        "id": "V6slrOIHxaw6"
      },
      "execution_count": null,
      "outputs": []
    }
  ]
}